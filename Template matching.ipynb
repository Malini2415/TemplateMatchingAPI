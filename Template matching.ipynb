{
 "cells": [
  {
   "cell_type": "markdown",
   "metadata": {},
   "source": [
    "\n",
    "# API\n"
   ]
  },
  {
   "cell_type": "code",
   "execution_count": null,
   "metadata": {},
   "outputs": [],
   "source": [
    "class TemplateMatching(Resource):\n",
    "    \n",
    "    @jwt_required()\n",
    "    def post(self):\n",
    "        #Upload your Template\n",
    "        image1= request.files['template']  \n",
    "        image1.save(image1.filename)  \n",
    "        \n",
    "        template = cv2.imread(image1.filename)\n",
    "        template = cv2.cvtColor(template, cv2.COLOR_BGR2GRAY)\n",
    "        template = cv2.Canny(template, 50, 200)\n",
    "        (tH, tW) = template.shape[:2]\n",
    "        #upload multiple filees\n",
    "        uploaded_files = request.files.getlist(\"file\")\n",
    "        for file in uploaded_files:\n",
    "            # Check if the file is one of the allowed types/extensions\n",
    "            file.save(secure_filename(file.filename))\n",
    "            image = cv2.imread(file.filename)\n",
    "            gray = cv2.cvtColor(image, cv2.COLOR_BGR2GRAY)\n",
    "            found = None\n",
    "            # loop over the scales of the image\n",
    "            for scale in np.linspace(0.2, 1.0, 20)[::-1]:\n",
    "                # resize the image according to the scale, and keep track\n",
    "                # of the ratio of the resizing\n",
    "                resized = imutils.resize(gray, width = int(gray.shape[1] * scale))\n",
    "                r = gray.shape[1] / float(resized.shape[1])\n",
    "                # if the resized image is smaller than the template, then break\n",
    "                # from the loop\n",
    "                if resized.shape[0] < tH or resized.shape[1] < tW:\n",
    "                    break\n",
    "\n",
    "                # detect edges in the resized, grayscale image and apply template\n",
    "                # matching to find the template in the image\n",
    "                edged = cv2.Canny(resized, 50, 200)\n",
    "                result = cv2.matchTemplate(edged, template, cv2.TM_CCOEFF)\n",
    "                (_, maxVal, _, maxLoc) = cv2.minMaxLoc(result)\n",
    "\n",
    "                # check to see if the iteration should be visualized\n",
    "                    # draw a bounding box around the detected region\n",
    "                clone = np.dstack([edged, edged, edged])\n",
    "                cv2.rectangle(clone, (maxLoc[0], maxLoc[1]),\n",
    "                    (maxLoc[0] + tW, maxLoc[1] + tH), (0, 0, 255), 2)\n",
    "                \n",
    "               # if we have found a new maximum correlation value, then ipdate\n",
    "               # the bookkeeping variable\n",
    "                if found is None or maxVal > found[0]:\n",
    "                    found = (maxVal, maxLoc, r)\n",
    "\n",
    "             # unpack the bookkeeping varaible and compute the (x, y) coordinates\n",
    "             # of the bounding box based on the resized ratio\n",
    "            (_, maxLoc, r) = found\n",
    "            (startX, startY) = (int(maxLoc[0] * r), int(maxLoc[1] * r))\n",
    "            (endX, endY) = (int((maxLoc[0] + tW) * r), int((maxLoc[1] + tH) * r))\n",
    "\n",
    "            # draw a bounding box around the detected result and display the image\n",
    "            cv2.rectangle(image, (startX, startY), (endX, endY), (0, 0, 255), 2)\n",
    "            cv2.imshow(\"Image\", image)\n",
    "            cv2.waitKey(0)\n",
    "            #Path to save the output images\n",
    "            path = 'C:/Users/malini.d/Desktop/API_tm_SSIM/Template_Matching_API/Final_output_images'\n",
    "            cv2.imwrite(os.path.join(path , file.filename), image)\n",
    "            cv2.waitKey(0)\n",
    "        return 'File saved Successfully!!!'        "
   ]
  }
 ],
 "metadata": {
  "kernelspec": {
   "display_name": "Python 3",
   "language": "python",
   "name": "python3"
  },
  "language_info": {
   "codemirror_mode": {
    "name": "ipython",
    "version": 3
   },
   "file_extension": ".py",
   "mimetype": "text/x-python",
   "name": "python",
   "nbconvert_exporter": "python",
   "pygments_lexer": "ipython3",
   "version": "3.6.10"
  }
 },
 "nbformat": 4,
 "nbformat_minor": 4
}
